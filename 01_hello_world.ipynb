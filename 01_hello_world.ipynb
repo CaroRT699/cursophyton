{
 "cells": [
  {
   "cell_type": "markdown",
   "id": "925d957d",
   "metadata": {},
   "source": [
    "# Primer ejercicio"
   ]
  },
  {
   "cell_type": "code",
   "execution_count": 9,
   "id": "978f2576",
   "metadata": {},
   "outputs": [
    {
     "name": "stdout",
     "output_type": "stream",
     "text": [
      "hola mundo\n"
     ]
    }
   ],
   "source": [
    "#Imprimir frase\n",
    "print(\"hola mundo\")"
   ]
  },
  {
   "cell_type": "markdown",
   "id": "05cc25ff",
   "metadata": {},
   "source": [
    "## realizar calculos"
   ]
  },
  {
   "cell_type": "code",
   "execution_count": 10,
   "id": "e8428290",
   "metadata": {},
   "outputs": [],
   "source": [
    "a = 1\n",
    "b = 1"
   ]
  },
  {
   "cell_type": "code",
   "execution_count": 11,
   "id": "f224c876",
   "metadata": {},
   "outputs": [],
   "source": [
    "c = a + b"
   ]
  },
  {
   "cell_type": "code",
   "execution_count": 12,
   "id": "5a5a4805",
   "metadata": {},
   "outputs": [
    {
     "name": "stdout",
     "output_type": "stream",
     "text": [
      "2\n"
     ]
    }
   ],
   "source": [
    "print(c)"
   ]
  },
  {
   "cell_type": "code",
   "execution_count": 13,
   "id": "4fb81df7",
   "metadata": {},
   "outputs": [
    {
     "data": {
      "text/plain": [
       "8"
      ]
     },
     "execution_count": 13,
     "metadata": {},
     "output_type": "execute_result"
    }
   ],
   "source": [
    "1 + 7"
   ]
  },
  {
   "cell_type": "code",
   "execution_count": 14,
   "id": "da5ff484",
   "metadata": {},
   "outputs": [
    {
     "data": {
      "text/plain": [
       "1"
      ]
     },
     "execution_count": 14,
     "metadata": {},
     "output_type": "execute_result"
    }
   ],
   "source": [
    "10 - 9"
   ]
  },
  {
   "cell_type": "code",
   "execution_count": 15,
   "id": "365ddf7b",
   "metadata": {},
   "outputs": [
    {
     "data": {
      "text/plain": [
       "720"
      ]
     },
     "execution_count": 15,
     "metadata": {},
     "output_type": "execute_result"
    }
   ],
   "source": [
    "20 * 36"
   ]
  },
  {
   "cell_type": "code",
   "execution_count": 16,
   "id": "d897f101",
   "metadata": {},
   "outputs": [
    {
     "data": {
      "text/plain": [
       "28.5625"
      ]
     },
     "execution_count": 16,
     "metadata": {},
     "output_type": "execute_result"
    }
   ],
   "source": [
    "457 / 16"
   ]
  },
  {
   "cell_type": "code",
   "execution_count": null,
   "id": "2a46ccf2",
   "metadata": {},
   "outputs": [],
   "source": []
  }
 ],
 "metadata": {
  "kernelspec": {
   "display_name": "base",
   "language": "python",
   "name": "python3"
  },
  "language_info": {
   "codemirror_mode": {
    "name": "ipython",
    "version": 3
   },
   "file_extension": ".py",
   "mimetype": "text/x-python",
   "name": "python",
   "nbconvert_exporter": "python",
   "pygments_lexer": "ipython3",
   "version": "3.13.5"
  }
 },
 "nbformat": 4,
 "nbformat_minor": 5
}
