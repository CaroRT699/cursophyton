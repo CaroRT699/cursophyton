{
 "cells": [
  {
   "cell_type": "code",
   "execution_count": null,
   "id": "a8fc294b",
   "metadata": {},
   "outputs": [],
   "source": []
  },
  {
   "cell_type": "markdown",
   "id": "9eba36de",
   "metadata": {},
   "source": [
    "# Funciones en python"
   ]
  },
  {
   "cell_type": "markdown",
   "id": "e7120940",
   "metadata": {},
   "source": [
    "> def se utiliza para llamar a las funciones y entre paréntesis se colocan los parámetros de la función"
   ]
  },
  {
   "cell_type": "code",
   "execution_count": 36,
   "id": "4d482ae8",
   "metadata": {},
   "outputs": [],
   "source": [
    "def saludar():\n",
    "    print(\"Hola mundo!\")\n"
   ]
  },
  {
   "cell_type": "code",
   "execution_count": 37,
   "id": "3d398124",
   "metadata": {},
   "outputs": [
    {
     "name": "stdout",
     "output_type": "stream",
     "text": [
      "Hola mundo!\n"
     ]
    }
   ],
   "source": [
    "# Luego de crear la función se puede llamar \n",
    "saludar()"
   ]
  },
  {
   "cell_type": "code",
   "execution_count": 38,
   "id": "67f87f5e",
   "metadata": {},
   "outputs": [],
   "source": [
    "#Se crea una función a la que se le pide por medio de return que sume las variables a y b\n",
    "def sumar(a, b):\n",
    "    c = 3 #Variable que siempre estara sumandose independientemente de los valores de a y b\n",
    "    return a + b + c"
   ]
  },
  {
   "cell_type": "code",
   "execution_count": 39,
   "id": "9086a238",
   "metadata": {},
   "outputs": [
    {
     "name": "stdout",
     "output_type": "stream",
     "text": [
      "16\n"
     ]
    }
   ],
   "source": [
    "# La función es ejecutada con los valores que vayan a ser a y b respectivamente\n",
    "Resultado = sumar(6,7)\n",
    "print(Resultado)"
   ]
  },
  {
   "cell_type": "code",
   "execution_count": 40,
   "id": "490d7330",
   "metadata": {},
   "outputs": [],
   "source": [
    "def add_two(num1):\n",
    "    result = num1 + 2\n",
    "    return result"
   ]
  },
  {
   "cell_type": "code",
   "execution_count": 41,
   "id": "fec6508b",
   "metadata": {},
   "outputs": [
    {
     "data": {
      "text/plain": [
       "6"
      ]
     },
     "execution_count": 41,
     "metadata": {},
     "output_type": "execute_result"
    }
   ],
   "source": [
    "add_two(4)"
   ]
  },
  {
   "cell_type": "code",
   "execution_count": 42,
   "id": "3eec68b1",
   "metadata": {},
   "outputs": [],
   "source": [
    "def square_number(num):\n",
    "    return num * num  "
   ]
  },
  {
   "cell_type": "code",
   "execution_count": 43,
   "id": "3687a7f7",
   "metadata": {},
   "outputs": [
    {
     "data": {
      "text/plain": [
       "64"
      ]
     },
     "execution_count": 43,
     "metadata": {},
     "output_type": "execute_result"
    }
   ],
   "source": [
    "square_number(8)"
   ]
  },
  {
   "cell_type": "code",
   "execution_count": 44,
   "id": "a394fa69",
   "metadata": {},
   "outputs": [],
   "source": [
    "def multiple_two_numbers(num1, num2):\n",
    "    return num1 * num2"
   ]
  },
  {
   "cell_type": "code",
   "execution_count": 45,
   "id": "f0a6957e",
   "metadata": {},
   "outputs": [
    {
     "data": {
      "text/plain": [
       "81"
      ]
     },
     "execution_count": 45,
     "metadata": {},
     "output_type": "execute_result"
    }
   ],
   "source": [
    "multiple_two_numbers(9,9)"
   ]
  },
  {
   "cell_type": "code",
   "execution_count": 46,
   "id": "41f6bcfb",
   "metadata": {},
   "outputs": [],
   "source": [
    "def sum_two_numbers(num1, num2):\n",
    "    return num1 + num2"
   ]
  },
  {
   "cell_type": "code",
   "execution_count": 47,
   "id": "94c7ae56",
   "metadata": {},
   "outputs": [
    {
     "data": {
      "text/plain": [
       "11"
      ]
     },
     "execution_count": 47,
     "metadata": {},
     "output_type": "execute_result"
    }
   ],
   "source": [
    "sum_two_numbers(5,6)"
   ]
  },
  {
   "cell_type": "code",
   "execution_count": 48,
   "id": "16e86217",
   "metadata": {},
   "outputs": [],
   "source": [
    "def square_of_sum (num1, num2):\n",
    "    return square_number(sum_two_numbers(num1, num2))"
   ]
  },
  {
   "cell_type": "code",
   "execution_count": 49,
   "id": "12a1b08e",
   "metadata": {},
   "outputs": [
    {
     "data": {
      "text/plain": [
       "100"
      ]
     },
     "execution_count": 49,
     "metadata": {},
     "output_type": "execute_result"
    }
   ],
   "source": [
    "square_of_sum(8,2)"
   ]
  },
  {
   "cell_type": "code",
   "execution_count": 50,
   "id": "5e1edbd5",
   "metadata": {},
   "outputs": [],
   "source": [
    "def add_tree(x):\n",
    "    return x + 3"
   ]
  },
  {
   "cell_type": "code",
   "execution_count": 51,
   "id": "fdc53306",
   "metadata": {},
   "outputs": [
    {
     "data": {
      "text/plain": [
       "6"
      ]
     },
     "execution_count": 51,
     "metadata": {},
     "output_type": "execute_result"
    }
   ],
   "source": [
    "add_tree(3)"
   ]
  },
  {
   "cell_type": "code",
   "execution_count": 52,
   "id": "0e168935",
   "metadata": {},
   "outputs": [],
   "source": [
    "def reciprocal (f):\n",
    "    return 1/f"
   ]
  },
  {
   "cell_type": "code",
   "execution_count": 53,
   "id": "e6b6c4dd",
   "metadata": {},
   "outputs": [],
   "source": [
    "def composite_function(x):\n",
    "    return reciprocal(add_tree(x))"
   ]
  },
  {
   "cell_type": "code",
   "execution_count": 54,
   "id": "2d067e6c",
   "metadata": {},
   "outputs": [
    {
     "data": {
      "text/plain": [
       "0.25"
      ]
     },
     "execution_count": 54,
     "metadata": {},
     "output_type": "execute_result"
    }
   ],
   "source": [
    "composite_function(1)"
   ]
  },
  {
   "cell_type": "code",
   "execution_count": 55,
   "id": "a5319dff",
   "metadata": {},
   "outputs": [
    {
     "data": {
      "text/plain": [
       "0.5"
      ]
     },
     "execution_count": 55,
     "metadata": {},
     "output_type": "execute_result"
    }
   ],
   "source": [
    "reciprocal(2)"
   ]
  },
  {
   "cell_type": "markdown",
   "id": "0bda8902",
   "metadata": {},
   "source": [
    "## Tarea formula compuesta para evaluar el valor absoluto de un número"
   ]
  },
  {
   "cell_type": "code",
   "execution_count": 59,
   "id": "ac0a3f37",
   "metadata": {},
   "outputs": [],
   "source": [
    "def absolute_value(x):\n",
    "    return -x if x < 0 else x \n"
   ]
  },
  {
   "cell_type": "code",
   "execution_count": 60,
   "id": "f611fbef",
   "metadata": {},
   "outputs": [
    {
     "data": {
      "text/plain": [
       "8"
      ]
     },
     "execution_count": 60,
     "metadata": {},
     "output_type": "execute_result"
    }
   ],
   "source": [
    "absolute_value(-8)\n"
   ]
  },
  {
   "cell_type": "code",
   "execution_count": 61,
   "id": "04db9e71",
   "metadata": {},
   "outputs": [
    {
     "data": {
      "text/plain": [
       "13"
      ]
     },
     "execution_count": 61,
     "metadata": {},
     "output_type": "execute_result"
    }
   ],
   "source": [
    "absolute_value(13)"
   ]
  },
  {
   "cell_type": "code",
   "execution_count": null,
   "id": "b610a330",
   "metadata": {},
   "outputs": [],
   "source": []
  }
 ],
 "metadata": {
  "kernelspec": {
   "display_name": "base",
   "language": "python",
   "name": "python3"
  },
  "language_info": {
   "codemirror_mode": {
    "name": "ipython",
    "version": 3
   },
   "file_extension": ".py",
   "mimetype": "text/x-python",
   "name": "python",
   "nbconvert_exporter": "python",
   "pygments_lexer": "ipython3",
   "version": "3.13.5"
  }
 },
 "nbformat": 4,
 "nbformat_minor": 5
}
