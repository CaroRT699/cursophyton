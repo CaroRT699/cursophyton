{
 "cells": [
  {
   "cell_type": "code",
   "execution_count": null,
   "id": "a79d4d31",
   "metadata": {},
   "outputs": [],
   "source": [
    "import pandas as pd"
   ]
  },
  {
   "cell_type": "code",
   "execution_count": null,
   "id": "07cf3077",
   "metadata": {},
   "outputs": [],
   "source": [
    "def read_csv_to_dataframe(file_path):\n",
    "    try:\n",
    "        df = pd.read_csv(file_path, sep=';')\n",
    "        return df\n",
    "    except Exception as e:\n",
    "        print(f\"Error reading the cvs file: {e}\")\n",
    "        return None"
   ]
  },
  {
   "cell_type": "code",
   "execution_count": null,
   "id": "d847b9de",
   "metadata": {},
   "outputs": [],
   "source": [
    "terminos_df= read_csv_to_dataframe(\"Terminos_lagoon_TA_DIC_2023_RawData.csv\")"
   ]
  },
  {
   "cell_type": "code",
   "execution_count": null,
   "id": "3311fa76",
   "metadata": {},
   "outputs": [],
   "source": [
    "print(terminos_df.head(10))\n",
    "print(terminos_df.info())\n",
    "print(terminos_df.describe())"
   ]
  },
  {
   "cell_type": "code",
   "execution_count": null,
   "id": "94a6b5ee",
   "metadata": {},
   "outputs": [],
   "source": [
    "print(terminos_df.columns)"
   ]
  },
  {
   "cell_type": "code",
   "execution_count": null,
   "id": "535ddba1",
   "metadata": {},
   "outputs": [],
   "source": [
    "ta = terminos_df['ta_micromol_kg']\n",
    "dic = terminos_df['dic_micromol_kg']\n",
    "dic_ta_data= terminos_df[['dic_micromol_kg', 'ta_micromol_kg']]"
   ]
  },
  {
   "cell_type": "code",
   "execution_count": null,
   "id": "9881949a",
   "metadata": {},
   "outputs": [],
   "source": [
    "dic.plot()\n",
    "dic_ta_data.plot()"
   ]
  },
  {
   "cell_type": "code",
   "execution_count": null,
   "id": "bc5af491",
   "metadata": {},
   "outputs": [],
   "source": [
    "terminos_rain= terminos_df[terminos_df['season'] == 'Rainy']\n",
    "terminos_nocandelaria =terminos_df[terminos_df['estuary'] != 'Candelaria'] ##se usa ! para que excluya \n"
   ]
  },
  {
   "cell_type": "code",
   "execution_count": null,
   "id": "1c994e86",
   "metadata": {},
   "outputs": [],
   "source": []
  }
 ],
 "metadata": {
  "kernelspec": {
   "display_name": "base",
   "language": "python",
   "name": "python3"
  },
  "language_info": {
   "codemirror_mode": {
    "name": "ipython",
    "version": 3
   },
   "file_extension": ".py",
   "mimetype": "text/x-python",
   "name": "python",
   "nbconvert_exporter": "python",
   "pygments_lexer": "ipython3",
   "version": "3.13.5"
  }
 },
 "nbformat": 4,
 "nbformat_minor": 5
}
