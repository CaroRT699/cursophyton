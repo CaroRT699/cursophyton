{
 "cells": [
  {
   "cell_type": "code",
   "execution_count": null,
   "id": "a79d4d31",
   "metadata": {},
   "outputs": [],
   "source": [
    "import pandas as pd\n",
    "import numpy as np"
   ]
  },
  {
   "cell_type": "code",
   "execution_count": null,
   "id": "07cf3077",
   "metadata": {},
   "outputs": [],
   "source": [
    "def read_csv_to_dataframe(file_path):\n",
    "    try:\n",
    "        df = pd.read_csv(file_path, sep=';')\n",
    "        return df\n",
    "    except Exception as e:\n",
    "        print(f\"Error reading the cvs file: {e}\")\n",
    "        return None"
   ]
  },
  {
   "cell_type": "code",
   "execution_count": null,
   "id": "d847b9de",
   "metadata": {},
   "outputs": [],
   "source": [
    "terminos_df= read_csv_to_dataframe(\"Terminos_lagoon_TA_DIC_2023_RawData.csv\")"
   ]
  },
  {
   "cell_type": "code",
   "execution_count": null,
   "id": "3311fa76",
   "metadata": {},
   "outputs": [],
   "source": [
    "print(terminos_df.head(10))\n",
    "print(terminos_df.info())\n",
    "print(terminos_df.describe())\n"
   ]
  },
  {
   "cell_type": "code",
   "execution_count": null,
   "id": "c5adafae",
   "metadata": {},
   "outputs": [],
   "source": [
    "print(terminos_df.columns)"
   ]
  },
  {
   "cell_type": "code",
   "execution_count": null,
   "id": "535ddba1",
   "metadata": {},
   "outputs": [],
   "source": [
    "## Ejemplos de extracción de información de tabla de datos original\n",
    "ta = terminos_df['ta_micromol_kg']\n",
    "dic = terminos_df['dic_micromol_kg']\n",
    "dic_ta_data= terminos_df[['dic_micromol_kg', 'ta_micromol_kg']]\n",
    "terminos_rain= terminos_df[terminos_df['season'] == 'Rainy']\n",
    "terminos_nocandelaria =terminos_df[terminos_df['estuary'] != 'Candelaria'] ##se usa ! para que excluya \n",
    "## Seleccionar únicamente las variables que fueron tomadas a cierta profundidad\n",
    "terminos_surface= terminos_df[terminos_df['depth_m'] <= 0.5 ]"
   ]
  },
  {
   "cell_type": "code",
   "execution_count": null,
   "id": "9881949a",
   "metadata": {},
   "outputs": [],
   "source": [
    "#Ejemplos de gráficas de datos\n",
    "dic.plot()\n",
    "dic_ta_data.plot()"
   ]
  },
  {
   "cell_type": "code",
   "execution_count": null,
   "id": "a4841db5",
   "metadata": {},
   "outputs": [],
   "source": [
    "#Como observar en donde hay datos faltantes\n",
    "print(terminos_df.isnull().sum())"
   ]
  },
  {
   "cell_type": "code",
   "execution_count": null,
   "id": "285d8776",
   "metadata": {},
   "outputs": [],
   "source": [
    "\n",
    "#Crear nuevo dataframe copia del original\n",
    "terminos_df_fill= terminos_df.copy()"
   ]
  },
  {
   "cell_type": "code",
   "execution_count": null,
   "id": "a488ce97",
   "metadata": {},
   "outputs": [],
   "source": [
    "#Llenar los espacios con metodo ffill / que es llenar con el valor de la tabla que le sigue a la casilla vacía\n",
    "terminos_df_fill= terminos_df.fillna(method=\"ffill\")"
   ]
  },
  {
   "cell_type": "code",
   "execution_count": null,
   "id": "27480117",
   "metadata": {},
   "outputs": [],
   "source": [
    "print(terminos_df_fill.isnull().sum())"
   ]
  },
  {
   "cell_type": "code",
   "execution_count": null,
   "id": "ecc7368d",
   "metadata": {},
   "outputs": [],
   "source": [
    "#Interpolar para llenar los valores faltantes\n",
    "terminos_df_fill_linear= terminos_df.copy()"
   ]
  },
  {
   "cell_type": "code",
   "execution_count": null,
   "id": "478dc6ae",
   "metadata": {},
   "outputs": [],
   "source": [
    "terminos_df_fill_linear= terminos_df_fill_linear.interpolate(method='linear')"
   ]
  },
  {
   "cell_type": "code",
   "execution_count": null,
   "id": "3b1f28e7",
   "metadata": {},
   "outputs": [],
   "source": [
    "print(terminos_df_fill_linear.isnull().sum())"
   ]
  },
  {
   "cell_type": "code",
   "execution_count": null,
   "id": "debf6c3a",
   "metadata": {},
   "outputs": [],
   "source": [
    "#Bloxplot demo\n",
    "terminos_DO= terminos_df['do_mg_l']\n",
    "plt.boxplot(terminos_DO)\n",
    "plt.xlabel(\"DO (mg/L)\")\n",
    "plt.ylabel(\"Concentración\")\n",
    "plt.title(\"Boxplot concentración DO\")\n",
    "plt.show()"
   ]
  },
  {
   "cell_type": "code",
   "execution_count": null,
   "id": "027252a0",
   "metadata": {},
   "outputs": [],
   "source": [
    "terminos_sal = terminos_df[\"sal_psu\"]\n",
    "fig2, ax2 = plt.subplots()\n",
    "ax2.set_title('Notched boxes')\n",
    "ax2.boxplot(terminos_sal, notch=True)\n",
    "plt.ylabel('Salinity ($PSU$)', fontsize = 12)\n",
    "plt.show()"
   ]
  },
  {
   "cell_type": "markdown",
   "id": "4e64e395",
   "metadata": {},
   "source": [
    "> Tarea 04\n"
   ]
  },
  {
   "cell_type": "code",
   "execution_count": null,
   "id": "73faa67f",
   "metadata": {},
   "outputs": [],
   "source": [
    "#Creación de nueva columna \"TA_DIC_ratio\"\n",
    "terminos_df['TA_DIC_ratio']= np.where(\n",
    "    terminos_df['dic_micromol_kg'] != 0,\n",
    "    terminos_df['ta_micromol_kg'] / terminos_df['dic_micromol_kg'],\n",
    "    np.nan\n",
    ")"
   ]
  },
  {
   "cell_type": "code",
   "execution_count": null,
   "id": "da38a9f7",
   "metadata": {},
   "outputs": [],
   "source": [
    "#Calcular la media y la variación estandar de TAC_DIC para cada temporada y área\n",
    "Season = terminos_df.groupby(['season', 'area']) ['TA_DIC_ratio'].agg(['mean', 'std']).reset_index()"
   ]
  },
  {
   "cell_type": "code",
   "execution_count": null,
   "id": "ceddd90b",
   "metadata": {},
   "outputs": [],
   "source": [
    "#Guardar resultados en un archivo excel\n",
    "Season.to_excel('TA_DIC_Season_Areas.xlsx', index=False)"
   ]
  },
  {
   "cell_type": "markdown",
   "id": "02909fcd",
   "metadata": {},
   "source": [
    "> Tarea 06\n"
   ]
  },
  {
   "cell_type": "code",
   "execution_count": null,
   "id": "4c93256f",
   "metadata": {},
   "outputs": [],
   "source": [
    "import matplotlib.pyplot as plt\n",
    "import seaborn as sns"
   ]
  },
  {
   "cell_type": "code",
   "execution_count": null,
   "id": "bff0ee6f",
   "metadata": {},
   "outputs": [],
   "source": [
    "#Histograma de DIC\n",
    "plt.hist(dic, bins=10)\n",
    "plt.xlabel(\"DIC (micromol_kg)\")\n",
    "plt.ylabel(\"Probabilidad\")\n",
    "plt.show"
   ]
  },
  {
   "cell_type": "code",
   "execution_count": null,
   "id": "bfdbadab",
   "metadata": {},
   "outputs": [],
   "source": [
    "#Histograma de TA\n",
    "plt.hist(ta, bins=10)\n",
    "plt.xlabel(\"TA (micromol_kg)\")\n",
    "plt.ylabel(\"Probabilidad\")\n",
    "plt.show"
   ]
  }
 ],
 "metadata": {
  "kernelspec": {
   "display_name": "base",
   "language": "python",
   "name": "python3"
  },
  "language_info": {
   "codemirror_mode": {
    "name": "ipython",
    "version": 3
   },
   "file_extension": ".py",
   "mimetype": "text/x-python",
   "name": "python",
   "nbconvert_exporter": "python",
   "pygments_lexer": "ipython3",
   "version": "3.13.5"
  }
 },
 "nbformat": 4,
 "nbformat_minor": 5
}
