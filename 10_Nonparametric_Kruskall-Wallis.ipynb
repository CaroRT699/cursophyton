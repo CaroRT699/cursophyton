{
 "cells": [
  {
   "cell_type": "markdown",
   "id": "e9d128ee",
   "metadata": {},
   "source": [
    "Prueba Kruskall Wallis No parametrica"
   ]
  },
  {
   "cell_type": "code",
   "execution_count": null,
   "id": "66d454ca",
   "metadata": {},
   "outputs": [],
   "source": [
    "import pandas as pd\n",
    "import numpy as np\n",
    "import matplotlib.pyplot as plt\n",
    "import seaborn as sns"
   ]
  },
  {
   "cell_type": "code",
   "execution_count": null,
   "id": "58ccfcfc",
   "metadata": {},
   "outputs": [],
   "source": [
    "%pip install scikit-posthocs "
   ]
  },
  {
   "cell_type": "code",
   "execution_count": null,
   "id": "c101b5aa",
   "metadata": {},
   "outputs": [],
   "source": [
    "def read_csv_to_dataframe(file_path):\n",
    "    try:\n",
    "        df = pd.read_csv(file_path, sep=';')\n",
    "        return df\n",
    "    except Exception as e:\n",
    "        print(f\"Error reading the cvs file: {e}\")\n",
    "        return None"
   ]
  },
  {
   "cell_type": "code",
   "execution_count": null,
   "id": "1b4a1c5b",
   "metadata": {},
   "outputs": [],
   "source": [
    "terminos_df= read_csv_to_dataframe(\"Terminos_lagoon_TA_DIC_2023_RawData.csv\")"
   ]
  },
  {
   "cell_type": "code",
   "execution_count": null,
   "id": "5f45d89b",
   "metadata": {},
   "outputs": [],
   "source": [
    "terminos_df.columns"
   ]
  },
  {
   "cell_type": "code",
   "execution_count": null,
   "id": "84090c8b",
   "metadata": {},
   "outputs": [],
   "source": [
    "from scipy.stats import kruskal\n",
    "\n",
    "def kruskal_wallis_test(*groups, alpha=0.05):\n",
    "    \"\"\"\n",
    "    Performs the Kruskal-Wallis H-test for independent samples.\n",
    "    Accepts multiple groups as arguments.\n",
    "    Prints the H statistic, p-value, and interpretation.\n",
    "    \"\"\"\n",
    "    result = kruskal(*groups)\n",
    "    \n",
    "    print(f\"H statistic = {result.statistic}\")\n",
    "    print(f\"p-value = {result.pvalue}\")\n",
    "    \n",
    "    if result.pvalue < alpha:\n",
    "        print(\"The difference between groups is statistically significant.\")\n",
    "    else:\n",
    "        print(\"No statistically significant difference between groups.\")"
   ]
  },
  {
   "cell_type": "code",
   "execution_count": null,
   "id": "f6eb45c1",
   "metadata": {},
   "outputs": [],
   "source": [
    "import scikit_posthocs as sp\n",
    "# You need to install the scikit-posthocs package: conda install -c conda-forge scikit-posthocs\n",
    "\n",
    "def dunn_posthoc(data, group_col, value_col, p_adjust='bonferroni'):\n",
    "    \"\"\"\n",
    "    Runs Dunn's post-hoc test after Kruskal-Wallis.\n",
    "    \"\"\"\n",
    "    result = sp.posthoc_dunn(data, val_col=value_col, group_col=group_col, p_adjust=p_adjust)\n",
    "    print(result)\n",
    "    return result"
   ]
  },
  {
   "cell_type": "code",
   "execution_count": null,
   "id": "96140632",
   "metadata": {},
   "outputs": [],
   "source": [
    "sns.boxplot(x='area', y='ta_micromol_kg', data=terminos_df)\n",
    "plt.xlabel('Area of the lagoon')\n",
    "plt.ylabel('Total Alkalinity (micromol/kg)')\n",
    "plt.title('Total Alkalinity by Area of the Lagoon')\n",
    "plt.show()"
   ]
  },
  {
   "cell_type": "code",
   "execution_count": null,
   "id": "d517ce94",
   "metadata": {},
   "outputs": [],
   "source": [
    "## Extraer datos de alcalinidad de cada area de la laguna\n",
    "ta_river = terminos_df[terminos_df['area'] == 'River']['ta_micromol_kg']\n",
    "ta_plume = terminos_df[terminos_df['area'] == 'Plume']['ta_micromol_kg']\n",
    "ta_coast= terminos_df[terminos_df['area'] == 'Coast']['ta_micromol_kg']"
   ]
  },
  {
   "cell_type": "code",
   "execution_count": null,
   "id": "aca05308",
   "metadata": {},
   "outputs": [],
   "source": [
    "#  Kruskal-Wallis test para buscar diferencias entre los tres\n",
    "kruskal_wallis_test(ta_river, ta_plume, ta_coast)"
   ]
  },
  {
   "cell_type": "code",
   "execution_count": null,
   "id": "f0825a38",
   "metadata": {},
   "outputs": [],
   "source": [
    "#Al encontrarse diferencias se corre prueba posthoc para saber entre cuales existe la diferencia\n",
    "dunn_posthoc(terminos_df, 'area', 'ta_micromol_kg')"
   ]
  },
  {
   "cell_type": "markdown",
   "id": "6d3edee4",
   "metadata": {},
   "source": [
    "Tarea 10 "
   ]
  },
  {
   "cell_type": "markdown",
   "id": "44d9e32c",
   "metadata": {},
   "source": [
    ">> KRUSKAL WALLIS DIC"
   ]
  },
  {
   "cell_type": "code",
   "execution_count": null,
   "id": "953caf71",
   "metadata": {},
   "outputs": [],
   "source": [
    "dic_river = terminos_df[terminos_df['area'] == 'River']['dic_micromol_kg']\n",
    "dic_plume = terminos_df[terminos_df['area'] == 'Plume']['dic_micromol_kg']\n",
    "dic_coast= terminos_df[terminos_df['area'] == 'Coast']['dic_micromol_kg']"
   ]
  },
  {
   "cell_type": "code",
   "execution_count": null,
   "id": "2de95ebc",
   "metadata": {},
   "outputs": [],
   "source": [
    "kruskal_wallis_test(dic_river, dic_plume, dic_coast)"
   ]
  },
  {
   "cell_type": "code",
   "execution_count": null,
   "id": "8706ea68",
   "metadata": {},
   "outputs": [],
   "source": [
    "dunn_posthoc(terminos_df, 'area', 'dic_micromol_kg')"
   ]
  },
  {
   "cell_type": "code",
   "execution_count": null,
   "id": "0e6b4407",
   "metadata": {},
   "outputs": [],
   "source": [
    "sns.boxplot(x='area', y='dic_micromol_kg', data=terminos_df)\n",
    "plt.xlabel('Area of the lagoon')\n",
    "plt.ylabel('Total DIC (micromol/kg)')\n",
    "plt.title('Total DIC by Area of the Lagoon')\n",
    "plt.show()"
   ]
  },
  {
   "cell_type": "markdown",
   "id": "36d6f52c",
   "metadata": {},
   "source": [
    ">>KRUSKAL WALLIS TEMPERATURA"
   ]
  },
  {
   "cell_type": "code",
   "execution_count": null,
   "id": "4e093b69",
   "metadata": {},
   "outputs": [],
   "source": [
    "tem_river = terminos_df[terminos_df['area'] == 'River']['temp_c']\n",
    "tem_plume = terminos_df[terminos_df['area'] == 'Plume']['temp_c']\n",
    "tem_coast= terminos_df[terminos_df['area'] == 'Coast']['temp_c']"
   ]
  },
  {
   "cell_type": "code",
   "execution_count": null,
   "id": "93df473a",
   "metadata": {},
   "outputs": [],
   "source": [
    "kruskal_wallis_test(tem_river, tem_plume, tem_coast)"
   ]
  },
  {
   "cell_type": "code",
   "execution_count": null,
   "id": "f2622139",
   "metadata": {},
   "outputs": [],
   "source": [
    "dunn_posthoc(terminos_df, 'area', 'temp_c')"
   ]
  },
  {
   "cell_type": "code",
   "execution_count": null,
   "id": "6156a631",
   "metadata": {},
   "outputs": [],
   "source": [
    "sns.boxplot(x='area', y='temp_c', data=terminos_df)\n",
    "plt.xlabel('Area of the lagoon')\n",
    "plt.ylabel('Total DIC (micromol/kg)')\n",
    "plt.title('Total DIC by Area of the Lagoon')\n",
    "plt.show()"
   ]
  }
 ],
 "metadata": {
  "kernelspec": {
   "display_name": "base",
   "language": "python",
   "name": "python3"
  },
  "language_info": {
   "codemirror_mode": {
    "name": "ipython",
    "version": 3
   },
   "file_extension": ".py",
   "mimetype": "text/x-python",
   "name": "python",
   "nbconvert_exporter": "python",
   "pygments_lexer": "ipython3",
   "version": "3.13.5"
  }
 },
 "nbformat": 4,
 "nbformat_minor": 5
}
