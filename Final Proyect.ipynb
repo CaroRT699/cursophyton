{
 "cells": [
  {
   "cell_type": "markdown",
   "id": "925694c3",
   "metadata": {},
   "source": [
    "# Reproductive aspects of a estuarine fish"
   ]
  },
  {
   "cell_type": "markdown",
   "id": "13c6b046",
   "metadata": {},
   "source": [
    "Condition indices are used to evaluate different aspects of fish health and are only comparable between the same species. The Fulton condition factor (CF) relates weight to length and assesses overall energy status (Ricker, 1975), where high values suggest good growth or energy accumulation and low values suggest stress or disease (Gregory & Wood, 1999). The gonadosomatic index (GSI) measures the ratio of gonad weight to body weight and provides information about the reproductive status and reproductive cycles of a species (Devlaming et al., 1982; González-Castro et al., 2011). The hepatosomatic index (HSI) measures the ratio of liver weight to body weight (Rodriguez-Gutiérrez Martha, 1992), reflects metabolic condition, and is related to vitellogenesis in females (Albieri et al., 2010). These indices, used in conjunction, provide a comprehensive view of the energy balance between growth, reproduction, and survival, and are essential for sustainable fisheries research and management (Hauser-Davis et al., 2012; Kokokiris et al., 2014). \n",
    "\n",
    "Due to the importance of Mugil curema for fisheries in Mexico, a wide variety of studies have been conducted on its development and reproductive biology, both in the Atlantic (Albieri et al., 2010; Fernandez & Dias, 2013; Franco-Lopez et al., 2014; García-Sandoval, 1982; A. L. Ibáñez & Colín, 2014; Moore, 1974) and the Pacific (Cabral-Solís et al., 2010; Meléndez-Galicia & Romero-Acosta, 2010; Ruiz-Ramírez et al., 2017; Salgado-Cruz et al., 2021; Vélez-Arellano et al., 2022).\n",
    "\n",
    "Condition index values vary depending on the sampling location, but in general, FC values greater than 0.9 have been calculated (Albieri et al., 2010; Cabral-Solís et al., 2010; Meléndez-Galicia & Romero-Acosta, 2010). GSI and HSI have been found to be positively correlated, and their increase has been linked to the reproductive cycle of M. curema. Correlations between HSI and FC and between GSI and FC have also been reported (Cabral-Solís et al., 2010; Ruiz-Ramírez et al., 2017), but this is not always the case (Albieri et al., 2010; García-Gasca et al., 2016).\n"
   ]
  },
  {
   "cell_type": "markdown",
   "id": "ab4a6cc2",
   "metadata": {},
   "source": [
    "## Condition index "
   ]
  },
  {
   "cell_type": "markdown",
   "id": "040fa407",
   "metadata": {},
   "source": [
    "- Condition Factor\n",
    "\n",
    "### $FC= \\dfrac{Pe}{Lt^b} \\times 10$\n",
    "\n",
    "- Gonadosomatic Index\n",
    "\n",
    "### $GSI= \\dfrac{Pg}{Pe} \\times 10$ \n",
    "\n",
    "- Hepatosomatic Index\n",
    "\n",
    "### $HSI= \\dfrac{Pl}{Pe} \\times 10$\n",
    "\n",
    "Where Pe is the eviscerated weight (g), Pg is the weight of gonads (g), Pl is the weight of liver (g), and b is the value of coefficient b in the weight (WT) - length (LT) relationship equation that is calculated for every fish \n",
    "\n",
    "### $WT = a \\cdot LT^b$"
   ]
  },
  {
   "cell_type": "markdown",
   "id": "2b5bad49",
   "metadata": {},
   "source": [
    "### Methodology "
   ]
  },
  {
   "cell_type": "markdown",
   "id": "46bfd75e",
   "metadata": {},
   "source": [
    "Sampling was carried out in the Huizache Caimanero lagoon system using a cast net. The fish caught were weighed, measured, and their organs were removed to weigh them and calculate the weight-length equation for all the fish sampled and the condition indices for each individual.\n",
    "\n",
    "The weight-lenght equation calculated was:\n",
    "### $WT = 0.075\\cdot LT^{2.389}$\n",
    "\n",
    "Condition indices were calculated and normality tests were performed to determine which correlation test to use to examine the correlation between HSI, GSI, and FC. \n"
   ]
  },
  {
   "cell_type": "code",
   "execution_count": 18,
   "id": "ba5284dd",
   "metadata": {},
   "outputs": [],
   "source": [
    "import pandas as pd\n",
    "from scipy import stats\n",
    "import matplotlib.pyplot as plt\n",
    "import seaborn as sns\n",
    "import numpy as np\n",
    "from scipy.stats import pearsonr\n"
   ]
  },
  {
   "cell_type": "code",
   "execution_count": 3,
   "id": "ef77757b",
   "metadata": {},
   "outputs": [],
   "source": [
    "def read_csv_to_dataframe(file_path):\n",
    "    try:\n",
    "        df = pd.read_csv(file_path, sep=';')\n",
    "        return df\n",
    "    except Exception as e:\n",
    "        print(f\"Error reading the cvs file: {e}\")\n",
    "        return None"
   ]
  },
  {
   "cell_type": "code",
   "execution_count": 4,
   "id": "9ced55fa",
   "metadata": {},
   "outputs": [],
   "source": [
    "data= read_csv_to_dataframe(\"Index_Condition.csv\")"
   ]
  },
  {
   "cell_type": "code",
   "execution_count": 5,
   "id": "2e3004e0",
   "metadata": {},
   "outputs": [
    {
     "name": "stdout",
     "output_type": "stream",
     "text": [
      "Mes    4\n",
      "ID     4\n",
      "GSI    4\n",
      "HSI    4\n",
      "FC     4\n",
      "dtype: int64\n"
     ]
    }
   ],
   "source": [
    "print(data.isnull().sum())"
   ]
  },
  {
   "cell_type": "code",
   "execution_count": 6,
   "id": "6e67fbfe",
   "metadata": {},
   "outputs": [],
   "source": [
    "data = data.dropna()"
   ]
  },
  {
   "cell_type": "code",
   "execution_count": 7,
   "id": "d20642bc",
   "metadata": {},
   "outputs": [],
   "source": [
    "from tabulate import tabulate"
   ]
  },
  {
   "cell_type": "code",
   "execution_count": 9,
   "id": "a94f309e",
   "metadata": {},
   "outputs": [
    {
     "name": "stdout",
     "output_type": "stream",
     "text": [
      "+------+-------+------+------+\n",
      "|  ID  |  GSI  | HSI  |  FC  |\n",
      "+------+-------+------+------+\n",
      "| 1.0  | 10.32 | 1.07 | 0.62 |\n",
      "| 2.0  |  0.0  | 0.66 | 0.7  |\n",
      "| 3.0  | 3.24  | 0.98 | 0.73 |\n",
      "| 4.0  | 0.59  | 0.79 | 0.68 |\n",
      "| 5.0  | 1.15  | 1.02 | 0.73 |\n",
      "| 6.0  | 1.22  | 1.43 | 0.75 |\n",
      "| 7.0  | 15.35 | 1.21 | 0.64 |\n",
      "| 8.0  | 10.38 | 0.96 | 0.74 |\n",
      "| 9.0  | 0.99  | 1.09 | 0.71 |\n",
      "| 10.0 | 3.29  | 1.25 | 0.64 |\n",
      "| 11.0 | 0.33  | 0.56 | 0.8  |\n",
      "| 12.0 | 0.38  | 0.84 | 0.53 |\n",
      "| 13.0 |  0.1  | 0.91 | 0.61 |\n",
      "| 14.0 | 3.31  | 1.35 | 0.65 |\n",
      "| 15.0 | 0.52  | 0.75 | 0.53 |\n",
      "| 16.0 |  0.5  | 0.75 | 0.65 |\n",
      "| 17.0 | 0.77  | 0.74 | 0.63 |\n",
      "| 18.0 |  0.5  | 0.8  | 0.68 |\n",
      "| 19.0 |  0.0  | 0.11 | 0.51 |\n",
      "| 20.0 |  0.0  | 0.4  | 0.47 |\n",
      "| 21.0 |  0.0  | 0.48 | 0.45 |\n",
      "| 22.0 |  0.0  | 0.36 | 0.43 |\n",
      "| 23.0 |  0.0  | 1.42 | 0.4  |\n",
      "| 24.0 |  0.0  | 0.7  | 0.42 |\n",
      "| 25.0 |  0.0  | 0.25 | 0.39 |\n",
      "| 26.0 |  0.0  | 0.97 | 0.42 |\n",
      "| 27.0 |  0.0  | 0.18 | 0.46 |\n",
      "| 28.0 |  0.0  | 1.99 | 0.34 |\n",
      "| 29.0 |  0.0  | 2.14 | 0.35 |\n",
      "| 30.0 | 1.16  | 1.37 | 0.56 |\n",
      "| 31.0 | 1.89  | 1.56 | 0.63 |\n",
      "| 32.0 | 4.95  | 1.67 | 0.62 |\n",
      "| 33.0 | 1.15  | 1.45 | 0.6  |\n",
      "| 34.0 | 4.72  | 1.63 | 0.62 |\n",
      "| 35.0 | 0.58  | 1.22 | 0.57 |\n",
      "| 36.0 | 1.28  | 1.19 | 0.64 |\n",
      "| 37.0 | 0.59  | 1.05 | 0.61 |\n",
      "| 38.0 | 0.28  | 0.76 | 0.53 |\n",
      "| 39.0 | 2.65  | 0.81 | 0.53 |\n",
      "| 40.0 |  0.0  | 0.63 | 0.79 |\n",
      "| 41.0 | 0.23  | 1.35 | 0.72 |\n",
      "| 42.0 |  1.7  | 1.25 | 0.55 |\n",
      "| 43.0 |  2.0  | 1.06 | 0.55 |\n",
      "| 44.0 | 1.19  | 1.16 | 0.61 |\n",
      "| 45.0 | 3.11  | 1.89 | 0.59 |\n",
      "| 46.0 | 1.01  | 1.17 | 0.59 |\n",
      "| 47.0 |  0.7  | 0.79 | 0.58 |\n",
      "| 48.0 | 1.31  | 0.97 | 0.59 |\n",
      "| 49.0 | 0.85  | 0.72 | 0.49 |\n",
      "| 50.0 |  0.0  | 1.15 | 0.33 |\n",
      "| 51.0 |  0.0  | 0.9  | 0.41 |\n",
      "| 52.0 |  0.0  | 0.87 | 0.36 |\n",
      "| 53.0 |  0.0  | 0.52 | 0.37 |\n",
      "| 54.0 |  0.0  | 0.93 | 0.34 |\n",
      "| 55.0 | 5.72  | 1.16 | 0.7  |\n",
      "| 56.0 | 0.52  | 1.06 | 0.7  |\n",
      "| 57.0 | 2.99  | 1.59 | 0.68 |\n",
      "| 58.0 | 2.06  | 0.79 | 0.67 |\n",
      "| 59.0 | 11.42 | 1.62 | 0.53 |\n",
      "| 60.0 | 0.44  | 1.46 | 0.61 |\n",
      "| 61.0 | 0.49  | 1.13 | 0.57 |\n",
      "| 62.0 | 0.24  | 1.38 | 0.57 |\n",
      "| 63.0 | 0.34  | 1.11 | 0.52 |\n",
      "| 64.0 |  0.0  | 0.88 | 0.51 |\n",
      "| 65.0 | 0.18  | 0.82 | 0.51 |\n",
      "| 66.0 |  0.0  | 0.97 | 0.5  |\n",
      "| 67.0 |  0.0  | 0.32 | 0.47 |\n",
      "| 68.0 |  0.0  | 0.64 | 0.45 |\n",
      "+------+-------+------+------+\n"
     ]
    }
   ],
   "source": [
    "columnas = [\"ID\", \"GSI\", \"HSI\", \"FC\"]\n",
    "tabla = tabulate(data[columnas], headers=\"keys\", tablefmt=\"pretty\", showindex=False)\n",
    "\n",
    "print(tabla)"
   ]
  },
  {
   "cell_type": "code",
   "execution_count": 11,
   "id": "c6828024",
   "metadata": {},
   "outputs": [
    {
     "name": "stdout",
     "output_type": "stream",
     "text": [
      "Estadístico= 0.97740, p-valor= 0.25284\n",
      "La distribución es normal (no se rechaza H0)\n"
     ]
    }
   ],
   "source": [
    "##Normality Test for each index\n",
    "from scipy.stats import shapiro\n",
    "\n",
    "FC = data['FC']\n",
    "\n",
    "stat, p = shapiro(FC)\n",
    "print(f'Estadístico= {stat:.5f}, p-valor= {p:.5f}')\n",
    "if p > 0.05:\n",
    "    print(\"La distribución es normal (no se rechaza H0)\")\n",
    "else:\n",
    "    print(\"La distribución NO es normal (se rechaza H0)\")"
   ]
  },
  {
   "cell_type": "code",
   "execution_count": 12,
   "id": "d0d04127",
   "metadata": {},
   "outputs": [
    {
     "name": "stdout",
     "output_type": "stream",
     "text": [
      "Estadístico= 0.98937, p-valor= 0.83468\n",
      "La distribución es normal (no se rechaza H0)\n"
     ]
    }
   ],
   "source": [
    "from scipy.stats import shapiro\n",
    "\n",
    "HSI = data['HSI']\n",
    "\n",
    "stat, p = shapiro(HSI)\n",
    "print(f'Estadístico= {stat:.5f}, p-valor= {p:.5f}')\n",
    "if p > 0.05:\n",
    "    print(\"La distribución es normal (no se rechaza H0)\")\n",
    "else:\n",
    "    print(\"La distribución NO es normal (se rechaza H0)\")"
   ]
  },
  {
   "cell_type": "code",
   "execution_count": 13,
   "id": "9d364e21",
   "metadata": {},
   "outputs": [
    {
     "name": "stdout",
     "output_type": "stream",
     "text": [
      "Estadístico= 0.57853, p-valor= 0.00000\n",
      "La distribución NO es normal (se rechaza H0)\n"
     ]
    }
   ],
   "source": [
    "from scipy.stats import shapiro\n",
    "\n",
    "GSI = data['GSI']\n",
    "\n",
    "stat, p = shapiro(GSI)\n",
    "print(f'Estadístico= {stat:.5f}, p-valor= {p:.5f}')\n",
    "if p > 0.05:\n",
    "    print(\"La distribución es normal (no se rechaza H0)\")\n",
    "else:\n",
    "    print(\"La distribución NO es normal (se rechaza H0)\")"
   ]
  },
  {
   "cell_type": "code",
   "execution_count": 15,
   "id": "93825883",
   "metadata": {},
   "outputs": [],
   "source": [
    "## Correlation analysis\n",
    "## Pearson correlation function\n",
    "def pearson_correlations(df, variables):\n",
    "    resultados = {}\n",
    "    for i in range(len(variables)):\n",
    "        for j in range(i + 1, len(variables)):\n",
    "            var1, var2 = variables[i], variables[j]\n",
    "            # Eliminamos NaN para evitar errores\n",
    "            datos = df[[var1, var2]].dropna()\n",
    "            r, p = pearsonr(datos[var1], datos[var2])\n",
    "            resultados[f\"{var1} vs {var2}\"] = {\"r\": r, \"p-value\": p}\n",
    "    return pd.DataFrame(resultados).T\n",
    "\n"
   ]
  },
  {
   "cell_type": "code",
   "execution_count": 16,
   "id": "b70cce6c",
   "metadata": {},
   "outputs": [],
   "source": [
    "## Spearman correlation function\n",
    "def test_spearman(x, y, alpha=0.05):\n",
    "    if len(x) != len(y):\n",
    "        raise ValueError(\"Las variables deben tener la misma longitud.\")\n",
    "\n",
    "    rho, pval = stats.spearmanr(x, y)\n",
    "\n",
    "    print(f\"Spearman's correlation coefficient (rho): {rho:.3f}\")\n",
    "    print(f\"p-value: {pval:.4f}\")\n",
    "\n",
    "    if pval < alpha:\n",
    "        print(f\"✔️ Significant relationship (p < {alpha:.3f})\")\n",
    "    else:\n",
    "        print(f\"⚠️ No significant relationship (p ≥ {alpha:.3f})\")\n",
    "\n",
    "    if rho > 0:\n",
    "        print(\"📈 Positive correlation\")\n",
    "    else:\n",
    "        print(\"📉 Negative correlation\")\n"
   ]
  },
  {
   "cell_type": "markdown",
   "id": "845b0d31",
   "metadata": {},
   "source": [
    ">> FC vs. HSI "
   ]
  },
  {
   "cell_type": "code",
   "execution_count": 19,
   "id": "7a922ad2",
   "metadata": {},
   "outputs": [
    {
     "name": "stdout",
     "output_type": "stream",
     "text": [
      "                 r   p-value\n",
      "FC vs HSI  0.11834  0.336476\n"
     ]
    }
   ],
   "source": [
    "variables = ['FC', 'HSI']\n",
    "\n",
    "# Llamamos a la función\n",
    "resultados = pearson_correlations(data, variables)\n",
    "\n",
    "print(resultados)"
   ]
  },
  {
   "cell_type": "markdown",
   "id": "cb1c2f67",
   "metadata": {},
   "source": [
    ">> FC vs. GSI"
   ]
  },
  {
   "cell_type": "code",
   "execution_count": 20,
   "id": "bcbefae1",
   "metadata": {},
   "outputs": [
    {
     "name": "stdout",
     "output_type": "stream",
     "text": [
      "Spearman's correlation coefficient (rho): 0.624\n",
      "p-value: 0.0000\n",
      "✔️ Significant relationship (p < 0.050)\n",
      "📈 Positive correlation\n"
     ]
    }
   ],
   "source": [
    "test_spearman(data[\"FC\"], data[\"GSI\"])"
   ]
  },
  {
   "cell_type": "markdown",
   "id": "e0904880",
   "metadata": {},
   "source": [
    ">> GSI vs. HSI"
   ]
  },
  {
   "cell_type": "code",
   "execution_count": 21,
   "id": "0568ef88",
   "metadata": {},
   "outputs": [
    {
     "name": "stdout",
     "output_type": "stream",
     "text": [
      "Spearman's correlation coefficient (rho): 0.513\n",
      "p-value: 0.0000\n",
      "✔️ Significant relationship (p < 0.050)\n",
      "📈 Positive correlation\n"
     ]
    }
   ],
   "source": [
    "test_spearman(data[\"HSI\"], data[\"GSI\"])"
   ]
  },
  {
   "cell_type": "markdown",
   "id": "0b1e5f1e",
   "metadata": {},
   "source": [
    "# Results"
   ]
  },
  {
   "cell_type": "markdown",
   "id": "b12322f0",
   "metadata": {},
   "source": [
    "FC showed no correlation with HSI, but it showed a positive and significant correlation with GSI. Similarly, GSI also showed a positive and significant correlation with HSI. "
   ]
  },
  {
   "cell_type": "markdown",
   "id": "77827b6d",
   "metadata": {},
   "source": [
    "# References"
   ]
  },
  {
   "cell_type": "markdown",
   "id": "9a961593",
   "metadata": {},
   "source": [
    "- Albieri, R. J., Araújo, F. G., & Ribeiro, T. P. (2010). Gonadal development and spawning season of white mullet Mugil curema (Mugilidae) in a tropical bay: Short communication. Journal of Applied Ichthyology, 26(1), 105–109. https://doi.org/10.1111/j.1439-0426.2009.01369.x\n",
    "- Cabral-Solís, M., Gallardo-Cabello, E. G. ;, Espino-Barr, M. ;, & Ibáñez, E. ; (2010). Reproduction of Mugil curema (Pisces: Mugilidae) from the Cuyutlán lagoon, in the Pacific coast of México. Avances En Investigación Agropecuaria, 14(3), 19–32. http://www.redalyc.org/articulo.oa?id=83715746002\n",
    "- Devlaming, V., Grossman, G., & Chapman, F. (1982). On the use of the gonosomatic index. Comparative Biochemistry and Physiology Part A: Physiology, 73(1), 31–39. https://doi.org/10.1016/0300-9629(82)90088-3\n",
    "- Fernandez, W. S., & Dias, J. F. (2013). Aspects of the reproduction of Mugil curema Valenciennes, 1836 in two coastal systems in southeastern Brazil. Tropical Zoology, 26(1), 15–32. https://doi.org/10.1080/03946975.2013.775052\n",
    "- Franco-Lopez, J., Abarca-Arenas, L., Barrera-Escorcia, H., Bedia-Sanchez, C., Rivera-Felix, V., & Corro-Ferreira, T. (2014). Seasonal Patterns of Abundance, Growth, Gonad Development and Feeding Behavior of Mugil curema V., 1836 and Mugil cephalus L., 1758 in the Lagoon of Alvarado, Veracruz, Mexico. Journal of Fisheries and Aquatic Science, 9(3), 109–124. www.academicjournals.com\n",
    "- García-Gasca, A., Ríos-Sicairos, J., Hernández-Cornejo, R., Cunha, I., Gutiérrez, J. N., Plascencia-González, H., de la Parra, L. M. G., Abad-Rosales, S., & Betancourt-Lozano, M. (2016). The white mullet (Mugil curema) as biological indicator to assess environmental stress in tropical coastal lagoons. Environmental Monitoring and Assessment, 188(12), 688. https://doi.org/10.1007/s10661-016-5714-4\n",
    "- García-Sandoval, S. (1982). Evaluación de las capturas de lisa en el NE del Golfo de México. Periodo 1965 – 1979.\n",
    "- González-Castro, M., Macchi, G. J., & Cousseau, M. B. (2011). Studies on reproduction of the mullet Mugil platanus Günther, 1880 (Actinopterygii, Mugilidae) from the Mar Chiquita coastal lagoon, Argentina: Similarities and differences with related species. Italian Journal of Zoology, 78(3), 343–353. https://doi.org/10.1080/11250003.2010.549154\n",
    "- Gregory, T. R., & Wood, C. M. (1999). The Effects of Chronic Plasma Cortisol Elevation on the Feeding Behaviour, Growth, Competitive Ability, and Swimming Performance of Juvenile Rainbow Trout. Physiological and Biochemical Zoology, 72(3), 286–295. https://doi.org/10.1086/316673\n",
    "- Hauser-Davis, R. A., Lavandier, R. C., Bastos, F. F., Oliveira, T. F., Oliveira Ribeiro, C. A., Ziolli, R. L., & De Campos, R. C. (2012). Alterations in Morphometric and Organosomatic Indices and Histopathological Analyses Indicative of Environmental Contamination in Mullet, Mugil liza, from Southeastern Brazil. Bulletin of Environmental Contamination and Toxicology, 89(6), 1154–1160. https://doi.org/10.1007/s00128-012-0846-x\n",
    "- Ibáñez, A. L., & Colín, A. (2014). Reproductive biology of Mugil curema and Mugil cephalus from western Gulf of Mexico waters. Bulletin of Marine Science, 90(4), 941–952. https://doi.org/10.5343/bms.2014.1004\n",
    "- Kokokiris, L., Stamoulis, A., Monokrousos, N., & Doulgeraki, S. (2014). Oocytes development, maturity classification, maturity size and spawning season of the red mullet ( Mullus barbatus barbatus Linnaeus, 1758). Journal of Applied Ichthyology, 30(1), 20–27. https://doi.org/10.1111/jai.12292\n",
    "- Meléndez-Galicia, C., & Romero-Acosta, A. C. (2010). Evaluación biológico pesquera de la lisa Mugil curema, en la costa de Michoacán. Ciencia Pesquera, 18(1).\n",
    "- Moore, R. (1974). General Ecology, Distribution and Relative Abundance of Mugil cephalus and Mugil curema on the South Texas Coast. In Contributions in Marine Science (Vol. 18, pp. 241–256). The University of Texas Marine Science Institute .\n",
    "- Ricker, W. E. (1975). Growth in Length and in Weight. In J. C. Stevenson (Ed.), Computation and Interpretation of Biological Statistics of Fish Populations (Vol. 191, pp. 203–233). Fisheries Research Board of Canada.\n",
    "- Rodriguez-Gutiérrez Martha. (1992). Técnicas de evaluación cuantitativa de la madurez gonádica en peces. AGT Editor.\n",
    "- Ruiz-Ramírez, S., Molina-Arenas, E. G., Lucano-Ramírez, G., Aguilar-Betancourt, C., Flores-Ortega, J. R., Kosonoy-Aceves, D., & González-Sansón, G. (2017). Aspectos reproductivos de la lisa Mugil curema (Mugiliformes: Mugilidae) en la laguna costera de Barra de Navidad, Jalisco, México. Latin American Journal of Aquatic Research, 45(2), 443–456. https://doi.org/10.3856/vol45-issue2-fulltext-19\n",
    "- Salgado-Cruz, L., Quiñonez-Velázquez, C., García-Domínguez, F. A., Pérez-Quiñonez, C. I., & Aguilar-Camacho, V. (2021). Reproductive aspects of mugil curema (Perciformes: Mugilidae) in two areas of baja california sur, méxico. Revista de Biologia Marina y Oceanografia, 56(1), 50–65. https://doi.org/10.22370/rbmo.2021.56.1.2798\n",
    "- Vélez-Arellano, N., Sánchez-Cárdenas, R., Salcido-Guevara, L. A., Ramirez-Perez, J. S., & Soberano-Palomares, I. M. (2022). Gonadal development, sex ratio, and length at sexual maturity of white mullet Mugil curema (Actinopterygii: Mugilidae) inhabiting southeastern Gulf of California. Latin American Journal of Aquatic Research, 50(3), 417–429. https://doi.org/10.3856/vol50-issue3-fulltext-2817Albieri\n"
   ]
  },
  {
   "cell_type": "markdown",
   "id": "705040df",
   "metadata": {},
   "source": []
  }
 ],
 "metadata": {
  "kernelspec": {
   "display_name": "base",
   "language": "python",
   "name": "python3"
  },
  "language_info": {
   "codemirror_mode": {
    "name": "ipython",
    "version": 3
   },
   "file_extension": ".py",
   "mimetype": "text/x-python",
   "name": "python",
   "nbconvert_exporter": "python",
   "pygments_lexer": "ipython3",
   "version": "3.13.5"
  }
 },
 "nbformat": 4,
 "nbformat_minor": 5
}
